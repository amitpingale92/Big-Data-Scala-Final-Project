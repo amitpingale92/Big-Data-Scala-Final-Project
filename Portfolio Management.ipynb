{
 "cells": [
  {
   "cell_type": "markdown",
   "metadata": {},
   "source": [
    "#  Portfolio Management "
   ]
  },
  {
   "cell_type": "markdown",
   "metadata": {},
   "source": [
    "#### Negative correlation is a statistical measure used to describe the relationship between two variables. When two variables are negatively correlated, one variable decreases as the other increases, and vice versa. Negative correlations between two investments are used in risk management to diversify, or mitigate, the risk associated with a portfolio."
   ]
  },
  {
   "cell_type": "markdown",
   "metadata": {},
   "source": [
    "- Correlations are negative when the prices of the two investments move in different directions.\n",
    "- Risk management is the process of evaluating and mitigating the risks of a portfolio.\n",
    "- Diversifying the portfolio with non-correlated assets can mitigate volatility and risk.\n",
    "- Buying a put option is a tactic used to hedge stocks or portfolios because the put is negatively correlated with the underlying instrument that it is derived from."
   ]
  },
  {
   "cell_type": "markdown",
   "metadata": {},
   "source": [
    "![alt text](https://github.com/amitpingale92/Big-Data-Scala-Final-Project/blob/master/Images/PortfolioManagement.png \"PortfolioManagement\")"
   ]
  },
  {
   "cell_type": "markdown",
   "metadata": {},
   "source": [
    "Reference: [Investopedia](https://www.investopedia.com/ask/answers/041315/how-are-negative-correlations-used-risk-management.asp)"
   ]
  },
  {
   "cell_type": "markdown",
   "metadata": {},
   "source": [
    "https://plot.ly/scala/line-and-scatter/"
   ]
  }
 ],
 "metadata": {
  "kernelspec": {
   "display_name": "spylon-kernel",
   "language": "scala",
   "name": "spylon-kernel"
  },
  "language_info": {
   "codemirror_mode": "text/x-scala",
   "file_extension": ".scala",
   "help_links": [
    {
     "text": "MetaKernel Magics",
     "url": "https://metakernel.readthedocs.io/en/latest/source/README.html"
    }
   ],
   "mimetype": "text/x-scala",
   "name": "scala",
   "pygments_lexer": "scala",
   "version": "0.4.1"
  }
 },
 "nbformat": 4,
 "nbformat_minor": 2
}
